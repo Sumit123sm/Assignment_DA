{
 "cells": [
  {
   "cell_type": "markdown",
   "metadata": {
    "id": "075JLV4ydk50"
   },
   "source": [
    "\n",
    "\n",
    "\n",
    "**Python Basics**"
   ]
  },
  {
   "cell_type": "markdown",
   "metadata": {
    "id": "pLTGl38Ac5e_"
   },
   "source": [
    "### Theoretical Answers (Questions 1-14)\n",
    "\n",
    "# 1. What is Python, and why is it popular?\n",
    "Python is a high-level, interpreted programming language known for its simplicity and readability. It is popular because it supports multiple programming paradigms, has an extensive standard library, and is widely used in web development, data analysis, artificial intelligence, and more.\n"
   ]
  },
  {
   "cell_type": "markdown",
   "metadata": {
    "id": "BKbOBVkhQUZp"
   },
   "source": [
    "# 2. What is an interpreter in Python?\n",
    "An interpreter is a program that executes Python code line by line, translating it into machine code, allowing for interactive execution and debugging.\n",
    "\n",
    "# 3. What are pre-defined keywords in Python?\n",
    "Pre-defined keywords are reserved words in Python with special meanings (e.g., `if`, `else`, `while`, `for`, `True`, `False`). These cannot be used as variable names.\n",
    "\n",
    "# 4. Can keywords be used as variable names?\n",
    "No, keywords cannot be used as variable names because they are reserved for specific syntax and functionality in Python.\n",
    "\n",
    "# 5. What is mutability in Python?\n",
    "Mutability refers to whether an object's value can be changed after it is created. Mutable objects (e.g., lists, dictionaries) can be changed, while immutable objects (e.g., tuples, strings) cannot.\n",
    "\n",
    "# 6. Why are lists mutable, but tuples are immutable?\n",
    "Lists are designed to be flexible and allow modifications, while tuples are intended to be static and hashable, making them suitable as dictionary keys.\n",
    "\n",
    "# 7. What is the difference between `==` and `is` operators in Python?\n",
    "`==` checks for value equality, whereas `is` checks for object identity (whether two objects occupy the same memory location).\n",
    "\n",
    "# 8. What are logical operators in Python?\n",
    "Logical operators include `and`, `or`, and `not`, which are used to perform logical operations on boolean values.\n",
    "\n",
    "# 9. What is type casting in Python?\n",
    "Type casting converts a variable from one data type to another, either implicitly (automatic conversion) or explicitly (manual conversion using functions like `int()`, `float()`, etc.).\n",
    "\n",
    "# 10. What is the difference between implicit and explicit type casting?\n",
    "Implicit casting is done automatically by Python, while explicit casting requires the programmer to use casting functions (e.g., `int()`, `str()`).\n",
    "\n",
    "# 11. What is the purpose of conditional statements in Python?\n",
    "Conditional statements (e.g., `if`, `else`, `elif`) allow the program to make decisions and execute specific code blocks based on conditions.\n",
    "\n",
    "# 12. How does the `elif` statement work?\n",
    "The `elif` statement provides additional conditions after an `if` statement. If the `if` condition is false, Python evaluates the `elif` conditions in sequence.\n",
    "\n",
    "# 13. What is the difference between `for` and `while` loops?\n",
    "A `for` loop iterates over a sequence or range, while a `while` loop continues until a condition becomes false.\n",
    "\n",
    "# 14. Describe a scenario where a while loop is more suitable than a for loop.\n",
    "A `while` loop is more suitable when the number of iterations is not known beforehand, such as reading input until a user enters a specific value.\n"
   ]
  },
  {
   "cell_type": "code",
   "execution_count": null,
   "metadata": {
    "id": "HRUTMCbyQYTa"
   },
   "outputs": [],
   "source": []
  },
  {
   "cell_type": "markdown",
   "metadata": {
    "id": "I2t7tg-6Qhn3"
   },
   "source": [
    "### Practical Questions (Python Code)"
   ]
  },
  {
   "cell_type": "code",
   "execution_count": 2,
   "metadata": {
    "colab": {
     "base_uri": "https://localhost:8080/"
    },
    "id": "3u5QCydAQiR4",
    "outputId": "90e94cb3-f92b-4fef-c889-6931bb7cc60a"
   },
   "outputs": [
    {
     "name": "stdout",
     "output_type": "stream",
     "text": [
      "Hello, World!\n"
     ]
    }
   ],
   "source": [
    "# 1. Write a Python program to print \"Hello, World!\"\n",
    "print(\"Hello, World!\")"
   ]
  },
  {
   "cell_type": "code",
   "execution_count": 3,
   "metadata": {
    "colab": {
     "base_uri": "https://localhost:8080/"
    },
    "id": "0-z4Q1ijQlui",
    "outputId": "4734cfee-01c5-4b72-8f89-77a0e692ce4d"
   },
   "outputs": [
    {
     "name": "stdout",
     "output_type": "stream",
     "text": [
      "Name: Sumit Prasad, Age: 20\n"
     ]
    }
   ],
   "source": [
    "# 2. Write a Python program that displays your name and age.\n",
    "name = \"Sumit Prasad\"\n",
    "age = 20\n",
    "print(f\"Name: {name}, Age: {age}\")"
   ]
  },
  {
   "cell_type": "code",
   "execution_count": 4,
   "metadata": {
    "colab": {
     "base_uri": "https://localhost:8080/"
    },
    "id": "j0I6iaDbQq6g",
    "outputId": "d194f125-8ec5-40f7-d90e-aaf03c339a0c"
   },
   "outputs": [
    {
     "name": "stdout",
     "output_type": "stream",
     "text": [
      "['False', 'None', 'True', 'and', 'as', 'assert', 'async', 'await', 'break', 'class', 'continue', 'def', 'del', 'elif', 'else', 'except', 'finally', 'for', 'from', 'global', 'if', 'import', 'in', 'is', 'lambda', 'nonlocal', 'not', 'or', 'pass', 'raise', 'return', 'try', 'while', 'with', 'yield']\n"
     ]
    }
   ],
   "source": [
    "\n",
    "# 3. Write code to print all the pre-defined keywords in Python using the keyword library.\n",
    "import keyword\n",
    "print(keyword.kwlist)"
   ]
  },
  {
   "cell_type": "code",
   "execution_count": 5,
   "metadata": {
    "colab": {
     "base_uri": "https://localhost:8080/"
    },
    "id": "um6ffvHFQtqC",
    "outputId": "8311cd84-2bff-4a5c-f076-dbf0d3065f10"
   },
   "outputs": [
    {
     "name": "stdout",
     "output_type": "stream",
     "text": [
      "Enter a word: gi\n",
      "gi is not a Python keyword.\n"
     ]
    }
   ],
   "source": [
    "# 4. Write a program that checks if a given word is a Python keyword.\n",
    "word = input(\"Enter a word: \")\n",
    "if keyword.iskeyword(word):\n",
    "    print(f\"{word} is a Python keyword.\")\n",
    "else:\n",
    "    print(f\"{word} is not a Python keyword.\")"
   ]
  },
  {
   "cell_type": "code",
   "execution_count": 6,
   "metadata": {
    "colab": {
     "base_uri": "https://localhost:8080/"
    },
    "id": "v04_NHjrQyc8",
    "outputId": "ce82b66a-598e-4bb3-834c-be98d79fdae1"
   },
   "outputs": [
    {
     "name": "stdout",
     "output_type": "stream",
     "text": [
      "Modified List: [10, 2, 3]\n",
      "Error: 'tuple' object does not support item assignment\n"
     ]
    }
   ],
   "source": [
    "# 5. Create a list and tuple in Python, and demonstrate how attempting to change an element works differently for each.\n",
    "my_list = [1, 2, 3]\n",
    "my_tuple = (1, 2, 3)\n",
    "my_list[0] = 10  # This works\n",
    "print(\"Modified List:\", my_list)\n",
    "try:\n",
    "    my_tuple[0] = 10  # This raises an error\n",
    "except TypeError as e:\n",
    "    print(\"Error:\", e)\n",
    "\n",
    "# list is mutable and tuple is immutable"
   ]
  },
  {
   "cell_type": "code",
   "execution_count": 7,
   "metadata": {
    "colab": {
     "base_uri": "https://localhost:8080/"
    },
    "id": "akJ_6WTIRATq",
    "outputId": "93e61805-1550-4562-ea13-713fc1a3d490"
   },
   "outputs": [
    {
     "name": "stdout",
     "output_type": "stream",
     "text": [
      "List after modification: [1, 2, 3, 4]\n",
      "String after modification: Hello\n"
     ]
    }
   ],
   "source": [
    "# 6. Write a function to demonstrate the behavior of mutable and immutable arguments.\n",
    "def modify_list(lst):\n",
    "    lst.append(4)  # Mutable\n",
    "\n",
    "def modify_string(s):\n",
    "    s += \" World\"  # Immutable\n",
    "\n",
    "my_list = [1, 2, 3]\n",
    "my_string = \"Hello\"\n",
    "modify_list(my_list)\n",
    "modify_string(my_string)\n",
    "print(\"List after modification:\", my_list)\n",
    "print(\"String after modification:\", my_string)"
   ]
  },
  {
   "cell_type": "code",
   "execution_count": 8,
   "metadata": {
    "colab": {
     "base_uri": "https://localhost:8080/"
    },
    "id": "DvwROMQ8RLxh",
    "outputId": "391012a4-3024-47da-f736-c97d72a53b30"
   },
   "outputs": [
    {
     "name": "stdout",
     "output_type": "stream",
     "text": [
      "a and b: False\n",
      "a or b: True\n",
      "not a: False\n"
     ]
    }
   ],
   "source": [
    "# 7. Write a program to demonstrate the use of logical operators.\n",
    "a, b = True, False\n",
    "print(\"a and b:\", a and b)\n",
    "print(\"a or b:\", a or b)\n",
    "print(\"not a:\", not a)"
   ]
  },
  {
   "cell_type": "code",
   "execution_count": 9,
   "metadata": {
    "colab": {
     "base_uri": "https://localhost:8080/"
    },
    "id": "lj7WId7WRoew",
    "outputId": "3c525ca8-7760-4a9c-f125-e6c3e0276395"
   },
   "outputs": [
    {
     "name": "stdout",
     "output_type": "stream",
     "text": [
      "Enter a value: 45\n",
      "As Integer: 45\n",
      "As Float: 45.0\n",
      "As Boolean: True\n"
     ]
    }
   ],
   "source": [
    "# 8. Write a Python program to convert user input from string to integer, float, and boolean types.\n",
    "user_input = input(\"Enter a value: \")\n",
    "print(\"As Integer:\", int(user_input))\n",
    "print(\"As Float:\", float(user_input))\n",
    "print(\"As Boolean:\", bool(user_input))"
   ]
  },
  {
   "cell_type": "code",
   "execution_count": 10,
   "metadata": {
    "colab": {
     "base_uri": "https://localhost:8080/"
    },
    "id": "tWQPvS-eRru0",
    "outputId": "677a0a52-a03a-4442-dd33-36c31970dfe7"
   },
   "outputs": [
    {
     "name": "stdout",
     "output_type": "stream",
     "text": [
      "Converted List: [1, 2, 3]\n"
     ]
    }
   ],
   "source": [
    "# 9. Write code to demonstrate type casting with list elements.\n",
    "my_list = [\"1\", \"2\", \"3\"]\n",
    "converted_list = [int(x) for x in my_list]\n",
    "print(\"Converted List:\", converted_list)"
   ]
  },
  {
   "cell_type": "code",
   "execution_count": 11,
   "metadata": {
    "colab": {
     "base_uri": "https://localhost:8080/"
    },
    "id": "B3SUb5hyR1LV",
    "outputId": "7bdc54c4-8f7a-4ac5-bed4-9f3204e0a74b"
   },
   "outputs": [
    {
     "name": "stdout",
     "output_type": "stream",
     "text": [
      "Enter a number: 9\n",
      "Positive\n"
     ]
    }
   ],
   "source": [
    "# 10. Write a program that checks if a number is positive, negative, or zero.\n",
    "number = int(input(\"Enter a number: \"))\n",
    "if number > 0:\n",
    "    print(\"Positive\")\n",
    "elif number < 0:\n",
    "    print(\"Negative\")\n",
    "else:\n",
    "    print(\"Zero\")"
   ]
  },
  {
   "cell_type": "code",
   "execution_count": 12,
   "metadata": {
    "colab": {
     "base_uri": "https://localhost:8080/"
    },
    "id": "DmyySgPqR8Rp",
    "outputId": "159feff9-e7a7-4b98-a499-a34fc0a8eaf5"
   },
   "outputs": [
    {
     "name": "stdout",
     "output_type": "stream",
     "text": [
      "1\n",
      "2\n",
      "3\n",
      "4\n",
      "5\n",
      "6\n",
      "7\n",
      "8\n",
      "9\n",
      "10\n"
     ]
    }
   ],
   "source": [
    "# 11. Write a for loop to print numbers from 1 to 10.\n",
    "for i in range(1, 11):\n",
    "    print(i)"
   ]
  },
  {
   "cell_type": "code",
   "execution_count": 13,
   "metadata": {
    "colab": {
     "base_uri": "https://localhost:8080/"
    },
    "id": "GLy9uu5HSBdb",
    "outputId": "748974ad-f153-40dd-f72e-8a0d324c7bd6"
   },
   "outputs": [
    {
     "name": "stdout",
     "output_type": "stream",
     "text": [
      "Sum of even numbers: 650\n"
     ]
    }
   ],
   "source": [
    "# 12. Write a Python program to find the sum of all even numbers between 1 and 50.\n",
    "sum_even = sum(i for i in range(1, 51) if i % 2 == 0)\n",
    "print(\"Sum of even numbers:\", sum_even)"
   ]
  },
  {
   "cell_type": "code",
   "execution_count": 14,
   "metadata": {
    "colab": {
     "base_uri": "https://localhost:8080/"
    },
    "id": "bYxanCUvSFxE",
    "outputId": "87ab9a3a-b309-416f-e9c0-2b1aee4e1402"
   },
   "outputs": [
    {
     "name": "stdout",
     "output_type": "stream",
     "text": [
      "Reversed String: nohtyP\n"
     ]
    }
   ],
   "source": [
    "# 13. Write a program to reverse a string using a while loop.\n",
    "string = \"Python\"\n",
    "reversed_string = \"\"\n",
    "i = len(string) - 1\n",
    "while i >= 0:\n",
    "    reversed_string += string[i]\n",
    "    i -= 1\n",
    "print(\"Reversed String:\", reversed_string)"
   ]
  },
  {
   "cell_type": "code",
   "execution_count": null,
   "metadata": {
    "colab": {
     "base_uri": "https://localhost:8080/"
    },
    "id": "IFyM_T9VSK_j",
    "outputId": "dfe6fdc1-dd56-466a-91cf-2ac10ce099ab"
   },
   "outputs": [
    {
     "name": "stdout",
     "output_type": "stream",
     "text": [
      "Enter a number: 5\n",
      "Factorial: 120\n"
     ]
    }
   ],
   "source": [
    "# 14. Write a Python program to calculate the factorial of a number provided by the user using a while loop.\n",
    "n = int(input(\"Enter a number: \"))\n",
    "factorial = 1\n",
    "while n > 1:\n",
    "    factorial *= n\n",
    "    n -= 1\n",
    "print(\"Factorial:\", factorial)\n"
   ]
  },
  {
   "cell_type": "code",
   "execution_count": null,
   "metadata": {
    "id": "Jn8e7yYpSOWM"
   },
   "outputs": [],
   "source": []
  }
 ],
 "metadata": {
  "colab": {
   "provenance": []
  },
  "kernelspec": {
   "display_name": "Python 3",
   "name": "python3"
  },
  "language_info": {
   "name": "python"
  }
 },
 "nbformat": 4,
 "nbformat_minor": 0
}
