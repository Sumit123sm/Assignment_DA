{
 "cells": [
  {
   "cell_type": "raw",
   "id": "09743786-1f9f-44bd-bca9-838910ff7367",
   "metadata": {},
   "source": [
    "Theoretical Questions\n",
    "\n",
    "1. Difference between interpreted and compiled languages:\n",
    "\n",
    "Interpreted languages execute code line by line (e.g., Python).\n",
    "Compiled languages translate code into machine code before execution (e.g., C++).\n",
    "2. What is exception handling in Python?\n",
    "\n",
    "Exception handling manages runtime errors using try, except, and optionally finally.\n",
    "3. Purpose of the finally block:\n",
    "\n",
    "Ensures the code within it runs regardless of whether an exception occurs.\n",
    "4. What is logging in Python?\n",
    "\n",
    "Logging captures runtime events for debugging or monitoring applications.\n",
    "5. Significance of the __del__ method:\n",
    "\n",
    "Automatically invoked for cleanup when an object is garbage-collected.\n",
    "6. Difference between import and from ... import:\n",
    "\n",
    "import: Imports the entire module.\n",
    "from ... import: Imports specific functions or classes.\n",
    "7. Handling multiple exceptions:\n",
    "\n",
    "Use tuples in except to catch multiple exceptions: except (TypeError, ValueError).\n",
    "8. Purpose of with statement in file handling:\n",
    "\n",
    "Automatically closes the file after usage, ensuring proper resource management.\n",
    "9. Difference between multithreading and multiprocessing:\n",
    "\n",
    "Multithreading: Shares memory across threads.\n",
    "Multiprocessing: Each process has separate memory.\n",
    "10. Advantages of logging:\n",
    "\n",
    "Easier debugging, tracking, and diagnosing issues in production.\n",
    "11. Memory management in Python:\n",
    "\n",
    "Handled by Python's garbage collector and includes dynamic memory allocation.\n",
    "12. Steps in exception handling:\n",
    "\n",
    "Use try for potentially error-prone code, except for handling, and optionally finally.\n",
    "13. Importance of memory management:\n",
    "\n",
    "Prevents memory leaks, optimizes usage, and ensures stability.\n",
    "14. Role of try and except:\n",
    "\n",
    "try: Wraps code that might raise an exception.\n",
    "except: Defines how to handle exceptions.\n",
    "15. How Python's garbage collection works:\n",
    "\n",
    "Automatically reclaims unused memory using reference counting and cycles.\n",
    "16. Purpose of else block in exception handling:\n",
    "\n",
    "Runs if no exception occurs in the try block.\n",
    "17. Common logging levels in Python:\n",
    "\n",
    "DEBUG, INFO, WARNING, ERROR, CRITICAL.\n",
    "18. Difference between os.fork() and multiprocessing:\n",
    "\n",
    "os.fork() creates a child process, while multiprocessing provides higher-level abstractions.\n",
    "19. Importance of closing a file:\n",
    "\n",
    "Frees resources and avoids data corruption.\n",
    "20. Difference between file.read() and file.readline():\n",
    "\n",
    "file.read(): Reads the entire file.\n",
    "file.readline(): Reads one line at a time.\n",
    "21. Logging module usage:\n",
    "\n",
    "To capture and store runtime logs for debugging or auditing.\n",
    "22. os module in file handling:\n",
    "\n",
    "Provides functions for interacting with the file system.\n",
    "23. Challenges of memory management:\n",
    "\n",
    "Dealing with fragmentation and garbage collection overhead.\n",
    "24. Manually raising an exception:\n",
    "\n",
    "Use raise Exception('message').\n",
    "25. Importance of multithreading:\n",
    "\n",
    "Improves application performance by running tasks concurrently."
   ]
  },
  {
   "cell_type": "code",
   "execution_count": 3,
   "id": "d7f9e4cd-9def-4609-9cbb-8ad091130904",
   "metadata": {},
   "outputs": [],
   "source": [
    "### Practical Answers\n",
    "\n",
    "# 1. Open a file for writing\n",
    "with open(\"file.txt\", \"w\") as file:\n",
    "    file.write(\"Hello, World!\")"
   ]
  },
  {
   "cell_type": "code",
   "execution_count": 4,
   "id": "4215eef3-e2d2-41c9-96b7-144473f29dee",
   "metadata": {},
   "outputs": [
    {
     "name": "stdout",
     "output_type": "stream",
     "text": [
      "Hello, World!\n"
     ]
    }
   ],
   "source": [
    "# 2. Read and print file contents\n",
    "with open(\"file.txt\", \"r\") as file:\n",
    "    for line in file:\n",
    "        print(line.strip())"
   ]
  },
  {
   "cell_type": "code",
   "execution_count": 5,
   "id": "59d8721f-8fe5-4746-a7a2-1b8e13d4ebe5",
   "metadata": {},
   "outputs": [
    {
     "name": "stdout",
     "output_type": "stream",
     "text": [
      "File not found.\n"
     ]
    }
   ],
   "source": [
    "# 3. Handle missing file exception\n",
    "try:\n",
    "    with open(\"missing.txt\", \"r\") as file:\n",
    "        print(file.read())\n",
    "except FileNotFoundError:\n",
    "    print(\"File not found.\")\n",
    "    "
   ]
  },
  {
   "cell_type": "code",
   "execution_count": 7,
   "id": "0f5113e4-4a9d-4435-a3c7-6f6bb30981b8",
   "metadata": {},
   "outputs": [],
   "source": [
    "# 4. Copy file contents\n",
    "with open(\"file.txt\", \"r\") as src, open(\"destination.txt\", \"w\") as dest:\n",
    "    dest.write(src.read())"
   ]
  },
  {
   "cell_type": "code",
   "execution_count": 8,
   "id": "bdf08ada-0885-4861-bb74-003f953d9be9",
   "metadata": {},
   "outputs": [
    {
     "name": "stdout",
     "output_type": "stream",
     "text": [
      "Cannot divide by zero!\n"
     ]
    }
   ],
   "source": [
    "# 5. Handle division by zero\n",
    "try:\n",
    "    result = 10 / 0\n",
    "except ZeroDivisionError:\n",
    "    print(\"Cannot divide by zero!\")"
   ]
  },
  {
   "cell_type": "code",
   "execution_count": 9,
   "id": "784c9498-1d5b-4b38-9870-724e26003df0",
   "metadata": {},
   "outputs": [],
   "source": [
    "# 6. Log division error\n",
    "import logging\n",
    "logging.basicConfig(filename=\"errors.log\", level=logging.ERROR)\n",
    "try:\n",
    "    result = 10 / 0\n",
    "except ZeroDivisionError:\n",
    "    logging.error(\"Division by zero error.\")"
   ]
  },
  {
   "cell_type": "code",
   "execution_count": 10,
   "id": "d48daeb4-ae5f-45f6-983e-5496f530f5c2",
   "metadata": {},
   "outputs": [],
   "source": [
    "# 7. Log at different levels\n",
    "logging.info(\"Info message\")\n",
    "logging.warning(\"Warning message\")\n",
    "logging.error(\"Error message\")"
   ]
  },
  {
   "cell_type": "code",
   "execution_count": 11,
   "id": "360893b8-21b5-4a23-ad8c-bb0a84aa2a23",
   "metadata": {},
   "outputs": [
    {
     "name": "stdout",
     "output_type": "stream",
     "text": [
      "Hello, World!\n"
     ]
    }
   ],
   "source": [
    "# 8. Handle file opening error\n",
    "try:\n",
    "    with open(\"file.txt\", \"r\") as file:\n",
    "        print(file.read())\n",
    "except Exception as e:\n",
    "    print(f\"Error: {e}\")"
   ]
  },
  {
   "cell_type": "code",
   "execution_count": 13,
   "id": "82daf411-aaf7-4f75-b6a7-60c10e486a8c",
   "metadata": {},
   "outputs": [],
   "source": [
    "# 9. Read file line-by-line into a list\n",
    "with open(\"file.txt\", \"r\") as file:\n",
    "    lines = [line.strip() for line in file]\n"
   ]
  },
  {
   "cell_type": "code",
   "execution_count": 14,
   "id": "9b2dd5d8-6aca-4bab-b445-1db4256eaf84",
   "metadata": {},
   "outputs": [],
   "source": [
    "# 10. Append data to a file\n",
    "with open(\"file.txt\", \"a\") as file:\n",
    "    file.write(\"\\nNew Data\")"
   ]
  },
  {
   "cell_type": "code",
   "execution_count": 15,
   "id": "65435e8c-5cd4-4db0-944c-7f3c5ddfeaeb",
   "metadata": {},
   "outputs": [
    {
     "name": "stdout",
     "output_type": "stream",
     "text": [
      "Key not found.\n"
     ]
    }
   ],
   "source": [
    "# 11. Handle missing dictionary key\n",
    "my_dict = {\"key\": \"value\"}\n",
    "try:\n",
    "    print(my_dict[\"missing_key\"])\n",
    "except KeyError:\n",
    "    print(\"Key not found.\")\n"
   ]
  },
  {
   "cell_type": "code",
   "execution_count": 16,
   "id": "1a7cff4d-5be7-4aad-8f86-57a1d095dc60",
   "metadata": {},
   "outputs": [
    {
     "name": "stdout",
     "output_type": "stream",
     "text": [
      "Error: invalid literal for int() with base 10: 'string'\n"
     ]
    }
   ],
   "source": [
    "# 12. Multiple exception handling\n",
    "try:\n",
    "    value = int(\"string\")\n",
    "except (ValueError, TypeError) as e:\n",
    "    print(f\"Error: {e}\")"
   ]
  },
  {
   "cell_type": "code",
   "execution_count": 17,
   "id": "a48b7ebb-4d1a-4977-a713-c9e2f3dfe52a",
   "metadata": {},
   "outputs": [
    {
     "name": "stdout",
     "output_type": "stream",
     "text": [
      "File exists.\n"
     ]
    }
   ],
   "source": [
    "# 13. Check if file exists\n",
    "import os\n",
    "if os.path.exists(\"file.txt\"):\n",
    "    print(\"File exists.\")"
   ]
  },
  {
   "cell_type": "code",
   "execution_count": 18,
   "id": "466bb64d-18b3-4ee0-8677-385824b934b0",
   "metadata": {},
   "outputs": [],
   "source": [
    "# 14. Log info and error\n",
    "logging.info(\"This is an info message.\")\n",
    "logging.error(\"This is an error message.\")\n"
   ]
  },
  {
   "cell_type": "code",
   "execution_count": 19,
   "id": "e3f8e0d8-97b0-49b7-849f-bdb1047fb9df",
   "metadata": {},
   "outputs": [],
   "source": [
    "# 15. Print empty file handling\n",
    "with open(\"file.txt\", \"r\") as file:\n",
    "    content = file.read()\n",
    "    if not content:\n",
    "        print(\"File is empty.\")\n"
   ]
  },
  {
   "cell_type": "code",
   "execution_count": 29,
   "id": "e17b09e5-e220-4543-bbd7-61aca119e3f8",
   "metadata": {
    "scrolled": true
   },
   "outputs": [
    {
     "name": "stdout",
     "output_type": "stream",
     "text": [
      "Collecting memory-profiler\n",
      "  Downloading memory_profiler-0.61.0-py3-none-any.whl.metadata (20 kB)\n",
      "Requirement already satisfied: psutil in c:\\users\\sumit\\appdata\\local\\programs\\python\\python312\\lib\\site-packages (from memory-profiler) (5.9.8)\n",
      "Downloading memory_profiler-0.61.0-py3-none-any.whl (31 kB)\n",
      "Installing collected packages: memory-profiler\n",
      "Successfully installed memory-profiler-0.61.0\n",
      "Note: you may need to restart the kernel to use updated packages.\n"
     ]
    },
    {
     "name": "stderr",
     "output_type": "stream",
     "text": [
      "\n",
      "[notice] A new release of pip is available: 24.0 -> 24.3.1\n",
      "[notice] To update, run: python.exe -m pip install --upgrade pip\n"
     ]
    }
   ],
   "source": [
    "pip install memory-profiler\n"
   ]
  },
  {
   "cell_type": "code",
   "execution_count": 31,
   "id": "6c1b0bfd-ee33-4a2f-b2fc-809f31cb32f7",
   "metadata": {},
   "outputs": [
    {
     "name": "stdout",
     "output_type": "stream",
     "text": [
      "ERROR: Could not find file C:\\Users\\Sumit\\AppData\\Local\\Temp\\ipykernel_15944\\3622527650.py\n"
     ]
    }
   ],
   "source": [
    "# 16. Memory profiling example placeholder (requires external library memory_profiler)\n",
    "# For example: Use \"mprof\" tool for real-time profiling.\n",
    "from memory_profiler import profile\n",
    "\n",
    "@profile\n",
    "def memory_test():\n",
    "    nums = [i ** 2 for i in range(10 ** 6)]\n",
    "    return nums\n",
    "\n",
    "if __name__ == \"__main__\":\n",
    "    memory_test()\n"
   ]
  },
  {
   "cell_type": "code",
   "execution_count": 21,
   "id": "655d6fc6-fa69-4a4a-bcf1-c31cb7805230",
   "metadata": {},
   "outputs": [],
   "source": [
    "# 17. Write list to a file\n",
    "with open(\"numbers.txt\", \"w\") as file:\n",
    "    file.writelines(f\"{num}\\n\" for num in range(10))\n"
   ]
  },
  {
   "cell_type": "code",
   "execution_count": 22,
   "id": "44833f3a-2926-430d-978c-f1d08b6de151",
   "metadata": {},
   "outputs": [],
   "source": [
    "# 18. Logging with rotation\n",
    "from logging.handlers import RotatingFileHandler\n",
    "handler = RotatingFileHandler(\"app.log\", maxBytes=1_000_000, backupCount=5)\n",
    "logging.basicConfig(handlers=[handler], level=logging.INFO)\n"
   ]
  },
  {
   "cell_type": "code",
   "execution_count": 23,
   "id": "84148449-9b67-4284-a9de-83aed5688984",
   "metadata": {},
   "outputs": [
    {
     "name": "stdout",
     "output_type": "stream",
     "text": [
      "Index or key error!\n"
     ]
    }
   ],
   "source": [
    "# 19. Handle IndexError and KeyError\n",
    "try:\n",
    "    lst = [1]\n",
    "    print(lst[2])\n",
    "except (IndexError, KeyError):\n",
    "    print(\"Index or key error!\")\n"
   ]
  },
  {
   "cell_type": "code",
   "execution_count": 24,
   "id": "0243509d-1de3-4985-983a-c60cc4bac506",
   "metadata": {},
   "outputs": [
    {
     "name": "stdout",
     "output_type": "stream",
     "text": [
      "Hello, World!\n",
      "New Data\n"
     ]
    }
   ],
   "source": [
    "# 20. Context manager for reading\n",
    "with open(\"file.txt\", \"r\") as file:\n",
    "    print(file.read())\n"
   ]
  },
  {
   "cell_type": "code",
   "execution_count": 25,
   "id": "e44aa4a3-8dae-4e17-bc4e-e8c0aa0cb270",
   "metadata": {},
   "outputs": [
    {
     "name": "stdout",
     "output_type": "stream",
     "text": [
      "0\n"
     ]
    }
   ],
   "source": [
    "# 21. Word occurrence count\n",
    "with open(\"file.txt\", \"r\") as file:\n",
    "    content = file.read()\n",
    "    print(content.count(\"word\"))\n"
   ]
  },
  {
   "cell_type": "code",
   "execution_count": 26,
   "id": "c730b214-9f7b-4e30-9a06-2d0936e138c3",
   "metadata": {},
   "outputs": [],
   "source": [
    "# 22. Check if file is empty\n",
    "if os.stat(\"file.txt\").st_size == 0:\n",
    "    print(\"File is empty.\")\n"
   ]
  },
  {
   "cell_type": "code",
   "execution_count": 27,
   "id": "2b2df116-d10b-4b0a-b330-bfd189b98c79",
   "metadata": {},
   "outputs": [],
   "source": [
    "# 23. Log error during file handling\n",
    "try:\n",
    "    with open(\"missing.txt\", \"r\") as file:\n",
    "        print(file.read())\n",
    "except Exception as e:\n",
    "    logging.error(f\"File handling error: {e}\")\n"
   ]
  },
  {
   "cell_type": "code",
   "execution_count": null,
   "id": "5d2428a7-6435-4676-891c-20ee86420887",
   "metadata": {},
   "outputs": [],
   "source": []
  }
 ],
 "metadata": {
  "kernelspec": {
   "display_name": "Python 3 (ipykernel)",
   "language": "python",
   "name": "python3"
  },
  "language_info": {
   "codemirror_mode": {
    "name": "ipython",
    "version": 3
   },
   "file_extension": ".py",
   "mimetype": "text/x-python",
   "name": "python",
   "nbconvert_exporter": "python",
   "pygments_lexer": "ipython3",
   "version": "3.12.2"
  }
 },
 "nbformat": 4,
 "nbformat_minor": 5
}
