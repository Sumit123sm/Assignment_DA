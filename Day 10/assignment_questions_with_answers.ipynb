{
 "cells": [
  {
   "cell_type": "markdown",
   "id": "cd972600",
   "metadata": {},
   "source": [
    "### What is a parameter?"
   ]
  },
  {
   "cell_type": "markdown",
   "id": "10db58f1",
   "metadata": {},
   "source": [
    "In machine learning, a parameter is a configuration variable that is internal to the model. Parameters are learned from the training data, such as weights and biases in a neural network."
   ]
  },
  {
   "cell_type": "markdown",
   "id": "ea26fb6f",
   "metadata": {},
   "source": [
    "### What is correlation? What does negative correlation mean?"
   ]
  },
  {
   "cell_type": "markdown",
   "id": "cd08f2c3",
   "metadata": {},
   "source": [
    "Correlation is a statistical measure that indicates the extent to which two variables fluctuate together. Negative correlation means that as one variable increases, the other decreases."
   ]
  },
  {
   "cell_type": "markdown",
   "id": "50a1513c",
   "metadata": {},
   "source": [
    "### Define Machine Learning. What are the main components in Machine Learning?"
   ]
  },
  {
   "cell_type": "markdown",
   "id": "ff1a21f9",
   "metadata": {},
   "source": [
    "Machine Learning is a field of artificial intelligence that enables systems to learn patterns from data and make predictions or decisions without being explicitly programmed. The main components include:\n",
    "1. Data\n",
    "2. Algorithms\n",
    "3. Models\n",
    "4. Training\n",
    "5. Evaluation"
   ]
  },
  {
   "cell_type": "markdown",
   "id": "41f92be7",
   "metadata": {},
   "source": [
    "### How does loss value help in determining whether the model is good or not?"
   ]
  },
  {
   "cell_type": "markdown",
   "id": "4c870d27",
   "metadata": {},
   "source": [
    "The loss value measures the difference between the model's predictions and the actual target values. A lower loss indicates that the model is performing well, while a higher loss indicates the need for improvements."
   ]
  },
  {
   "cell_type": "markdown",
   "id": "1b1ba023",
   "metadata": {},
   "source": [
    "### What are continuous and categorical variables?"
   ]
  },
  {
   "cell_type": "markdown",
   "id": "ff39eab5",
   "metadata": {},
   "source": [
    "Continuous variables can take any numerical value within a range (e.g., height, weight). Categorical variables represent categories or groups (e.g., gender, color)."
   ]
  },
  {
   "cell_type": "markdown",
   "id": "809df2f3",
   "metadata": {},
   "source": [
    "### How do we handle categorical variables in Machine Learning? What are the common techniques?"
   ]
  },
  {
   "cell_type": "markdown",
   "id": "c8df1e63",
   "metadata": {},
   "source": [
    "Categorical variables can be handled using techniques like:\n",
    "1. One-Hot Encoding\n",
    "2. Label Encoding\n",
    "3. Ordinal Encoding\n",
    "4. Binary Encoding"
   ]
  },
  {
   "cell_type": "markdown",
   "id": "f2bcd8ea",
   "metadata": {},
   "source": [
    "### What do you mean by training and testing a dataset?"
   ]
  },
  {
   "cell_type": "markdown",
   "id": "3d2bf831",
   "metadata": {},
   "source": [
    "Training a dataset involves using the data to train a machine learning model. Testing a dataset is used to evaluate the performance of the trained model on unseen data."
   ]
  },
  {
   "cell_type": "markdown",
   "id": "8f94ff2c",
   "metadata": {},
   "source": [
    "### What is sklearn.preprocessing?"
   ]
  },
  {
   "cell_type": "markdown",
   "id": "49b3452e",
   "metadata": {},
   "source": [
    "The `sklearn.preprocessing` module in scikit-learn provides utilities for data preprocessing, such as scaling, encoding, and normalization."
   ]
  },
  {
   "cell_type": "markdown",
   "id": "a8e7365a",
   "metadata": {},
   "source": [
    "### What is a Test set?"
   ]
  },
  {
   "cell_type": "markdown",
   "id": "1b75cc5e",
   "metadata": {},
   "source": [
    "A test set is a portion of the dataset that is used to evaluate the performance of the machine learning model after training. It helps assess how well the model generalizes to unseen data."
   ]
  },
  {
   "cell_type": "markdown",
   "id": "af6722a0",
   "metadata": {},
   "source": [
    "### How do we split data for model fitting (training and testing) in Python? How do you approach a Machine Learning problem?"
   ]
  },
  {
   "cell_type": "markdown",
   "id": "bd8e733c",
   "metadata": {},
   "source": [
    "We split the data using functions like `train_test_split` from scikit-learn. The general steps to approach a machine learning problem include:\n",
    "1. Define the problem.\n",
    "2. Collect and preprocess data.\n",
    "3. Perform Exploratory Data Analysis (EDA).\n",
    "4. Select a suitable model.\n",
    "5. Train and validate the model.\n",
    "6. Test and deploy the model."
   ]
  },
  {
   "cell_type": "markdown",
   "id": "c2bd8b49",
   "metadata": {},
   "source": [
    "### Why do we have to perform EDA before fitting a model to the data?"
   ]
  },
  {
   "cell_type": "markdown",
   "id": "e25f66b7",
   "metadata": {},
   "source": [
    "Exploratory Data Analysis (EDA) helps understand the data's structure, identify patterns, detect outliers, and discover relationships. It ensures data quality and provides insights for feature engineering."
   ]
  },
  {
   "cell_type": "markdown",
   "id": "808f2a39",
   "metadata": {},
   "source": [
    "### What is correlation?"
   ]
  },
  {
   "cell_type": "markdown",
   "id": "46b65acb",
   "metadata": {},
   "source": [
    "Correlation is a measure that indicates the extent to which two variables are related. It ranges from -1 (perfect negative correlation) to +1 (perfect positive correlation)."
   ]
  },
  {
   "cell_type": "markdown",
   "id": "86b1a7e2",
   "metadata": {},
   "source": [
    "### What does negative correlation mean?"
   ]
  },
  {
   "cell_type": "markdown",
   "id": "0516c8b6",
   "metadata": {},
   "source": [
    "Negative correlation means that as one variable increases, the other variable decreases."
   ]
  },
  {
   "cell_type": "markdown",
   "id": "39655c13",
   "metadata": {},
   "source": [
    "### How can you find correlation between variables in Python?"
   ]
  },
  {
   "cell_type": "markdown",
   "id": "98a789a8",
   "metadata": {},
   "source": [
    "You can find correlation using pandas' `.corr()` method or numpy's `np.corrcoef()` function."
   ]
  },
  {
   "cell_type": "markdown",
   "id": "59d70d79",
   "metadata": {},
   "source": [
    "### What is causation? Explain the difference between correlation and causation with an example."
   ]
  },
  {
   "cell_type": "markdown",
   "id": "03399164",
   "metadata": {},
   "source": [
    "Causation indicates that one event is the result of another. Correlation, on the other hand, indicates a relationship between two variables. Example:\n",
    "- Correlation: Ice cream sales and drowning incidents are correlated (both increase in summer).\n",
    "- Causation: Consuming junk food causes weight gain."
   ]
  },
  {
   "cell_type": "markdown",
   "id": "f0039306",
   "metadata": {},
   "source": [
    "### What is an Optimizer? What are different types of optimizers? Explain each with an example."
   ]
  },
  {
   "cell_type": "markdown",
   "id": "dceb02bf",
   "metadata": {},
   "source": [
    "An optimizer adjusts the model's weights to minimize the loss function. Examples of optimizers:\n",
    "1. Gradient Descent\n",
    "2. Stochastic Gradient Descent (SGD)\n",
    "3. Adam Optimizer\n",
    "4. RMSprop"
   ]
  },
  {
   "cell_type": "markdown",
   "id": "0de9b93f",
   "metadata": {},
   "source": [
    "### What is sklearn.linear_model?"
   ]
  },
  {
   "cell_type": "markdown",
   "id": "6e4b2de9",
   "metadata": {},
   "source": [
    "The `sklearn.linear_model` module in scikit-learn contains linear models for regression and classification tasks, such as Linear Regression, Logistic Regression, and Ridge Regression."
   ]
  },
  {
   "cell_type": "markdown",
   "id": "e015e602",
   "metadata": {},
   "source": [
    "### What does model.fit() do? What arguments must be given?"
   ]
  },
  {
   "cell_type": "markdown",
   "id": "cac4cf43",
   "metadata": {},
   "source": [
    "The `model.fit()` method trains a machine learning model on the given dataset. It requires `X` (features) and `y` (target labels) as arguments."
   ]
  },
  {
   "cell_type": "markdown",
   "id": "5267a7ae",
   "metadata": {},
   "source": [
    "### What does model.predict() do? What arguments must be given?"
   ]
  },
  {
   "cell_type": "markdown",
   "id": "a18ff2e5",
   "metadata": {},
   "source": [
    "The `model.predict()` method predicts the target values for a given set of features (`X`). It requires only `X` as an argument."
   ]
  },
  {
   "cell_type": "markdown",
   "id": "bedf627f",
   "metadata": {},
   "source": [
    "### What are continuous and categorical variables?"
   ]
  },
  {
   "cell_type": "markdown",
   "id": "e7251058",
   "metadata": {},
   "source": [
    "Continuous variables represent numerical values (e.g., age, height), while categorical variables represent categories (e.g., gender, city)."
   ]
  },
  {
   "cell_type": "markdown",
   "id": "78a40b15",
   "metadata": {},
   "source": [
    "### What is feature scaling? How does it help in Machine Learning?"
   ]
  },
  {
   "cell_type": "markdown",
   "id": "fcb89e26",
   "metadata": {},
   "source": [
    "Feature scaling standardizes the range of independent variables. It ensures that features with larger ranges do not dominate those with smaller ranges, improving model performance."
   ]
  },
  {
   "cell_type": "markdown",
   "id": "f0e54ac9",
   "metadata": {},
   "source": [
    "### How do we perform scaling in Python?"
   ]
  },
  {
   "cell_type": "markdown",
   "id": "1646efdd",
   "metadata": {},
   "source": [
    "Scaling can be done using `StandardScaler` or `MinMaxScaler` from the sklearn.preprocessing module."
   ]
  },
  {
   "cell_type": "markdown",
   "id": "cc26f156",
   "metadata": {},
   "source": [
    "### What is sklearn.preprocessing?"
   ]
  },
  {
   "cell_type": "markdown",
   "id": "0150ab5e",
   "metadata": {},
   "source": [
    "`sklearn.preprocessing` provides tools for preprocessing data, such as scaling, encoding categorical data, and normalizing feature values."
   ]
  },
  {
   "cell_type": "markdown",
   "id": "f565d7c6",
   "metadata": {},
   "source": [
    "### How do we split data for model fitting (training and testing) in Python?"
   ]
  },
  {
   "cell_type": "markdown",
   "id": "3ec9f5c8",
   "metadata": {},
   "source": [
    "We can split data using the `train_test_split` function from scikit-learn's `model_selection` module. Example:\n",
    "```\n",
    "from sklearn.model_selection import train_test_split\n",
    "X_train, X_test, y_train, y_test = train_test_split(X, y, test_size=0.2, random_state=42)\n",
    "```"
   ]
  },
  {
   "cell_type": "markdown",
   "id": "3085d8bf",
   "metadata": {},
   "source": [
    "### Explain data encoding."
   ]
  },
  {
   "cell_type": "markdown",
   "id": "d489b30a",
   "metadata": {},
   "source": [
    "Data encoding converts categorical variables into numerical form. Techniques include:\n",
    "1. One-Hot Encoding\n",
    "2. Label Encoding\n",
    "3. Binary Encoding"
   ]
  }
 ],
 "metadata": {},
 "nbformat": 4,
 "nbformat_minor": 5
}